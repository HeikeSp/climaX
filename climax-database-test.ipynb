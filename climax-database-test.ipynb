{
 "metadata": {
  "name": "",
  "signature": "sha256:1ef314f954308d856959bd609a84a5501760d0c638f79d0f894b6bcbeddba2d3"
 },
 "nbformat": 3,
 "nbformat_minor": 0,
 "worksheets": [
  {
   "cells": [
    {
     "cell_type": "code",
     "collapsed": false,
     "input": [
      "import getClimateData\n",
      "import login"
     ],
     "language": "python",
     "metadata": {},
     "outputs": [
      {
       "output_type": "stream",
       "stream": "stderr",
       "text": [
        "/home/uschi/anaconda/lib/python2.7/site-packages/setuptools-5.8-py2.7.egg/pkg_resources.py:1032: UserWarning: /home/uschi/.python-eggs is writable by group/others and vulnerable to attack when used with get_resource_filename. Consider a more secure location (set with .set_extraction_path or the PYTHON_EGG_CACHE environment variable).\n"
       ]
      }
     ],
     "prompt_number": 1
    },
    {
     "cell_type": "code",
     "collapsed": false,
     "input": [
      "from getClimateData import PREC_QUERY, IRRI_QUERY"
     ],
     "language": "python",
     "metadata": {},
     "outputs": [],
     "prompt_number": 2
    },
    {
     "cell_type": "code",
     "collapsed": false,
     "input": [
      "database = login.get_db()\n",
      "cursor = database.cursor()"
     ],
     "language": "python",
     "metadata": {},
     "outputs": [],
     "prompt_number": 3
    },
    {
     "cell_type": "code",
     "collapsed": false,
     "input": [
      "cultureID = 44443\n",
      "# cultureID = 56878"
     ],
     "language": "python",
     "metadata": {},
     "outputs": [],
     "prompt_number": 4
    },
    {
     "cell_type": "code",
     "collapsed": false,
     "input": [
      "cursor.execute(PREC_QUERY % {'CULTURE_ID': cultureID})\n",
      "prec_rows = cursor.fetchall()"
     ],
     "language": "python",
     "metadata": {},
     "outputs": [],
     "prompt_number": 5
    },
    {
     "cell_type": "code",
     "collapsed": false,
     "input": [
      "# {date: precip for (date, precip) in prec_rows}"
     ],
     "language": "python",
     "metadata": {},
     "outputs": [],
     "prompt_number": 6
    },
    {
     "cell_type": "code",
     "collapsed": false,
     "input": [
      "cursor.execute(PREC_QUERY % {'CULTURE_ID': cultureID})\n",
      "\n",
      "\n",
      "# precipitation = dict(map(lambda x: (x[0], x[1:]), [row for row in cursor.fetchall()]))\n",
      "precipitation = {date: precip for (date, precip) in cursor.fetchall()}"
     ],
     "language": "python",
     "metadata": {},
     "outputs": [],
     "prompt_number": 7
    },
    {
     "cell_type": "code",
     "collapsed": false,
     "input": [
      "# precipitation"
     ],
     "language": "python",
     "metadata": {},
     "outputs": [],
     "prompt_number": 8
    },
    {
     "cell_type": "code",
     "collapsed": false,
     "input": [
      "cursor.execute(IRRI_QUERY % {'CULTURE_ID': cultureID})\n",
      "irrigation_rows = cursor.fetchall()\n",
      "\n",
      "#maps datetime.date to (float, long)\n",
      "# irrigation = dict(map(lambda x: (x[0], x[1:]),\n",
      "#                       [row for row in cursor.fetchall()]))\n",
      "\n"
     ],
     "language": "python",
     "metadata": {},
     "outputs": [],
     "prompt_number": 9
    },
    {
     "cell_type": "code",
     "collapsed": false,
     "input": [
      "irrigation_rows"
     ],
     "language": "python",
     "metadata": {},
     "outputs": [
      {
       "metadata": {},
       "output_type": "pyout",
       "prompt_number": 10,
       "text": [
        "((datetime.date(2011, 5, 5), 6.16, 169L),\n",
        " (datetime.date(2011, 5, 5), 6.16, 170L),\n",
        " (datetime.date(2011, 5, 16), 3.08, 169L),\n",
        " (datetime.date(2011, 5, 26), 9.24, 169L),\n",
        " (datetime.date(2011, 5, 31), 3.08, 169L),\n",
        " (datetime.date(2011, 5, 31), 3.08, 170L),\n",
        " (datetime.date(2011, 6, 1), 6.16, 169L),\n",
        " (datetime.date(2011, 6, 4), 9.24, 169L),\n",
        " (datetime.date(2011, 6, 6), 3.08, 169L),\n",
        " (datetime.date(2011, 6, 6), 3.08, 170L),\n",
        " (datetime.date(2011, 6, 15), 9.24, 169L),\n",
        " (datetime.date(2011, 6, 18), 9.24, 169L),\n",
        " (datetime.date(2011, 6, 29), 9.24, 169L))"
       ]
      }
     ],
     "prompt_number": 10
    },
    {
     "cell_type": "code",
     "collapsed": false,
     "input": [
      "from collections import defaultdict\n",
      "\n",
      "irrigation_dict = defaultdict(list)\n",
      "for date, irri_amount, treatment_id in irrigation_rows:\n",
      "    irrigation_dict[date].append( (irri_amount, treatment_id) )"
     ],
     "language": "python",
     "metadata": {},
     "outputs": [],
     "prompt_number": 11
    },
    {
     "cell_type": "code",
     "collapsed": false,
     "input": [
      "for date in irrigation_dict:\n",
      "    print irrigation_dict[date]\n",
      "    "
     ],
     "language": "python",
     "metadata": {},
     "outputs": [
      {
       "output_type": "stream",
       "stream": "stdout",
       "text": [
        "[(9.24, 169L)]\n",
        "[(3.08, 169L), (3.08, 170L)]\n",
        "[(6.16, 169L)]\n",
        "[(9.24, 169L)]\n",
        "[(9.24, 169L)]\n",
        "[(3.08, 169L), (3.08, 170L)]\n",
        "[(6.16, 169L), (6.16, 170L)]\n",
        "[(9.24, 169L)]\n",
        "[(9.24, 169L)]\n",
        "[(3.08, 169L)]\n"
       ]
      }
     ],
     "prompt_number": 12
    },
    {
     "cell_type": "code",
     "collapsed": false,
     "input": [
      "a = 169L\n",
      "b = 169"
     ],
     "language": "python",
     "metadata": {},
     "outputs": [],
     "prompt_number": 13
    },
    {
     "cell_type": "code",
     "collapsed": false,
     "input": [
      "a == b"
     ],
     "language": "python",
     "metadata": {},
     "outputs": [
      {
       "metadata": {},
       "output_type": "pyout",
       "prompt_number": 14,
       "text": [
        "True"
       ]
      }
     ],
     "prompt_number": 14
    },
    {
     "cell_type": "code",
     "collapsed": false,
     "input": [
      "from collections import namedtuple"
     ],
     "language": "python",
     "metadata": {},
     "outputs": [],
     "prompt_number": 15
    },
    {
     "cell_type": "code",
     "collapsed": false,
     "input": [
      "soil_water = namedtuple(\"soil_water\", \"control stress\")"
     ],
     "language": "python",
     "metadata": {},
     "outputs": [],
     "prompt_number": 16
    },
    {
     "cell_type": "code",
     "collapsed": false,
     "input": [
      "namedtuple?"
     ],
     "language": "python",
     "metadata": {},
     "outputs": [],
     "prompt_number": 17
    },
    {
     "cell_type": "code",
     "collapsed": false,
     "input": [
      "a = {}"
     ],
     "language": "python",
     "metadata": {},
     "outputs": [],
     "prompt_number": 18
    },
    {
     "cell_type": "code",
     "collapsed": false,
     "input": [
      "for foo in a:\n",
      "    print 23"
     ],
     "language": "python",
     "metadata": {},
     "outputs": [],
     "prompt_number": 19
    },
    {
     "cell_type": "code",
     "collapsed": false,
     "input": [],
     "language": "python",
     "metadata": {},
     "outputs": [],
     "prompt_number": 19
    }
   ],
   "metadata": {}
  }
 ]
}